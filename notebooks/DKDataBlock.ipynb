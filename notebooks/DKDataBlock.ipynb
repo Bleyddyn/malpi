{
 "cells": [
  {
   "cell_type": "markdown",
   "id": "368d2cd0",
   "metadata": {},
   "source": [
    "Demonstrating how to get DonkeyCar Tub files into a PyTorch/fastai DataBlock"
   ]
  },
  {
   "cell_type": "code",
   "execution_count": null,
   "id": "5dcdb16f",
   "metadata": {},
   "outputs": [],
   "source": [
    "from fastai.data.all import *\n",
    "from fastai.vision.all import *\n",
    "from fastai.data.transforms import ColReader, Normalize, RandomSplitter"
   ]
  },
  {
   "cell_type": "code",
   "execution_count": null,
   "id": "f228dacf",
   "metadata": {},
   "outputs": [],
   "source": [
    "from donkeycar.parts.tub_v2 import Tub\n",
    "import pandas as pd\n",
    "from pathlib import Path"
   ]
  },
  {
   "cell_type": "code",
   "execution_count": null,
   "id": "b6012f0b",
   "metadata": {},
   "outputs": [],
   "source": [
    "tubs = []\n",
    "root_path = Path(\"data\")\n",
    "for item in root_path.iterdir():\n",
    "    if item.is_dir():\n",
    "        try:\n",
    "            t = Tub(str(item),read_only=True)\n",
    "        except FileNotFoundError as ex:\n",
    "            continue\n",
    "        tubs.append(t)\n",
    "cnt = 0\n",
    "for t in tubs:\n",
    "    cnt += len(t)\n",
    "cnt"
   ]
  },
  {
   "cell_type": "code",
   "execution_count": null,
   "id": "9f6e49ed",
   "metadata": {},
   "outputs": [],
   "source": [
    "dfs = []\n",
    "for tub in tubs:\n",
    "    df = pd.DataFrame(tub)\n",
    "    name = Path(tub.base_path).name\n",
    "    pref = os.path.join(name, Tub.images() ) + \"/\"\n",
    "    df[\"cam/image_array\"] = pref + df[\"cam/image_array\"]\n",
    "    dfs.append(df)\n",
    "len(dfs)"
   ]
  },
  {
   "cell_type": "code",
   "execution_count": null,
   "id": "5a0e1fca",
   "metadata": {},
   "outputs": [],
   "source": [
    "df_all = pd.concat(dfs)"
   ]
  },
  {
   "cell_type": "code",
   "execution_count": null,
   "id": "6eb48bdf",
   "metadata": {},
   "outputs": [],
   "source": [
    "pascal = DataBlock(blocks=(ImageBlock, RegressionBlock, RegressionBlock),\n",
    "                   splitter=RandomSplitter(),\n",
    "                   get_x=ColReader(3, pref=\"data/\"),\n",
    "                   get_y=[ColReader(9),ColReader(11)],\n",
    "                   n_inp=1)"
   ]
  },
  {
   "cell_type": "code",
   "execution_count": null,
   "id": "ff21d577",
   "metadata": {},
   "outputs": [],
   "source": [
    "dls = pascal.dataloaders(df_all)\n",
    "dls.show_batch()"
   ]
  },
  {
   "cell_type": "code",
   "execution_count": null,
   "id": "f24f7d32",
   "metadata": {},
   "outputs": [],
   "source": []
  }
 ],
 "metadata": {
  "kernelspec": {
   "display_name": "Python 3 (ipykernel)",
   "language": "python",
   "name": "python3"
  },
  "language_info": {
   "codemirror_mode": {
    "name": "ipython",
    "version": 3
   },
   "file_extension": ".py",
   "mimetype": "text/x-python",
   "name": "python",
   "nbconvert_exporter": "python",
   "pygments_lexer": "ipython3",
   "version": "3.9.10"
  }
 },
 "nbformat": 4,
 "nbformat_minor": 5
}
